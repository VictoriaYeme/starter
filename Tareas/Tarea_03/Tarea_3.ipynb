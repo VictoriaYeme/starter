{
  "cells": [
    {
      "cell_type": "markdown",
      "metadata": {
        "id": "Qsu6i3OaebEm"
      },
      "source": [
        "### Frecuencia con la que realizo danza\n",
        "\n",
        "#### Diseño del proceso de recolección: bitácora física\n",
        "\n",
        "#### Recopilación de datos:\n",
        "###### Lunes: 1 hora de 19:00 a 20:00\n",
        "###### Martes: 1 hora y 30 minutos, de 20:30 a 22:00\n",
        "###### Miercóles: nada\n",
        "###### Jueves: 1 hora y 30 minutos, de 20:30 a 22:00\n",
        "###### Viernes: nada\n",
        "###### Sábado: 1 hora de 12:30 a 13:30\n",
        "\n",
        "###### Los primeros 10 minutos calentamiento\n",
        "###### Luego, 20 minutos de clases técnica\n",
        "###### El resto, ensayar coreografía"
      ]
    },
    {
      "cell_type": "markdown",
      "metadata": {},
      "source": [
        "#### Una vez recopilados los datos:"
      ]
    },
    {
      "cell_type": "code",
      "execution_count": 1,
      "metadata": {
        "colab": {
          "base_uri": "https://localhost:8080/"
        },
        "id": "N2rXkMW_dxZS",
        "outputId": "bccaa3c7-35b0-4f55-f304-86352fc68e2d"
      },
      "outputs": [
        {
          "name": "stdout",
          "output_type": "stream",
          "text": [
            "         Día Duración        Horario\n",
            "0      Lunes   1 hora  19:00 - 20:00\n",
            "1     Martes   1 hora  20:30 - 21:30\n",
            "2  Miércoles     Nada               \n",
            "3     Jueves   1 hora  20:30 - 21:30\n",
            "4    Viernes     Nada               \n",
            "5     Sábado   1 hora  12:30 - 13:30\n"
          ]
        }
      ],
      "source": [
        "import pandas as pd\n",
        "\n",
        "data1 = {\n",
        "    'Día': ['Lunes', 'Martes', 'Miércoles', 'Jueves', 'Viernes', 'Sábado'],\n",
        "    'Duración': ['1 hora', '1 hora', 'Nada', '1 hora', 'Nada', '1 hora'],\n",
        "    'Horario': ['19:00 - 20:00', '20:30 - 21:30', '', '20:30 - 21:30', '', '12:30 - 13:30']\n",
        "}\n",
        "\n",
        "df1 = pd.DataFrame(data1)\n",
        "\n",
        "print(df1)"
      ]
    },
    {
      "cell_type": "code",
      "execution_count": 2,
      "metadata": {
        "id": "PfHPTdWFm_KK"
      },
      "outputs": [],
      "source": [
        "import csv\n",
        "\n",
        "data1 = {\n",
        " 'Día': ['Lunes', 'Martes', 'Miércoles', 'Jueves', 'Viernes', 'Sábado'],\n",
        "    'Duración': ['1 hora', '1 hora', 'Nada', '1 hora', 'Nada', '1 hora'],\n",
        "    'Horario': ['19:00 - 20:00', '20:30 - 21:30', '', '20:30 - 21:30', '', '12:30 - 13:30']\n",
        "}\n",
        "\n",
        "df1 = pd.DataFrame(data1)"
      ]
    },
    {
      "cell_type": "code",
      "execution_count": 3,
      "metadata": {
        "colab": {
          "base_uri": "https://localhost:8080/",
          "height": 238
        },
        "id": "msat5KQsnF_G",
        "outputId": "ad2f5012-e744-4b7d-beef-f506310efa13"
      },
      "outputs": [
        {
          "data": {
            "text/html": [
              "<div>\n",
              "<style scoped>\n",
              "    .dataframe tbody tr th:only-of-type {\n",
              "        vertical-align: middle;\n",
              "    }\n",
              "\n",
              "    .dataframe tbody tr th {\n",
              "        vertical-align: top;\n",
              "    }\n",
              "\n",
              "    .dataframe thead th {\n",
              "        text-align: right;\n",
              "    }\n",
              "</style>\n",
              "<table border=\"1\" class=\"dataframe\">\n",
              "  <thead>\n",
              "    <tr style=\"text-align: right;\">\n",
              "      <th></th>\n",
              "      <th>Día</th>\n",
              "      <th>Duración</th>\n",
              "      <th>Horario</th>\n",
              "    </tr>\n",
              "  </thead>\n",
              "  <tbody>\n",
              "    <tr>\n",
              "      <th>0</th>\n",
              "      <td>Lunes</td>\n",
              "      <td>1 hora</td>\n",
              "      <td>19:00 - 20:00</td>\n",
              "    </tr>\n",
              "    <tr>\n",
              "      <th>1</th>\n",
              "      <td>Martes</td>\n",
              "      <td>1 hora</td>\n",
              "      <td>20:30 - 21:30</td>\n",
              "    </tr>\n",
              "    <tr>\n",
              "      <th>2</th>\n",
              "      <td>Miércoles</td>\n",
              "      <td>Nada</td>\n",
              "      <td></td>\n",
              "    </tr>\n",
              "    <tr>\n",
              "      <th>3</th>\n",
              "      <td>Jueves</td>\n",
              "      <td>1 hora</td>\n",
              "      <td>20:30 - 21:30</td>\n",
              "    </tr>\n",
              "    <tr>\n",
              "      <th>4</th>\n",
              "      <td>Viernes</td>\n",
              "      <td>Nada</td>\n",
              "      <td></td>\n",
              "    </tr>\n",
              "    <tr>\n",
              "      <th>5</th>\n",
              "      <td>Sábado</td>\n",
              "      <td>1 hora</td>\n",
              "      <td>12:30 - 13:30</td>\n",
              "    </tr>\n",
              "  </tbody>\n",
              "</table>\n",
              "</div>"
            ],
            "text/plain": [
              "         Día Duración        Horario\n",
              "0      Lunes   1 hora  19:00 - 20:00\n",
              "1     Martes   1 hora  20:30 - 21:30\n",
              "2  Miércoles     Nada               \n",
              "3     Jueves   1 hora  20:30 - 21:30\n",
              "4    Viernes     Nada               \n",
              "5     Sábado   1 hora  12:30 - 13:30"
            ]
          },
          "execution_count": 3,
          "metadata": {},
          "output_type": "execute_result"
        }
      ],
      "source": [
        "df1"
      ]
    },
    {
      "cell_type": "code",
      "execution_count": 4,
      "metadata": {
        "id": "Sae4VjsJnMNp"
      },
      "outputs": [],
      "source": [
        "df1.to_csv('dataframe1.csv', index=False)"
      ]
    },
    {
      "cell_type": "code",
      "execution_count": 5,
      "metadata": {
        "colab": {
          "base_uri": "https://localhost:8080/"
        },
        "id": "0KAC6eD-e8_N",
        "outputId": "f631cb50-d9df-473f-8592-5734f498912b"
      },
      "outputs": [
        {
          "name": "stdout",
          "output_type": "stream",
          "text": [
            "         Día       Duración Total Calentamiento Clases Técnicas  \\\n",
            "0      Lunes               1 hora    10 minutos      20 minutos   \n",
            "1     Martes  1 hora y 30 minutos    10 minutos      20 minutos   \n",
            "2  Miércoles                 Nada           N/A             N/A   \n",
            "3     Jueves  1 hora y 30 minutos    10 minutos      20 minutos   \n",
            "4    Viernes                 Nada           N/A             N/A   \n",
            "5     Sábado               1 hora    10 minutos      20 minutos   \n",
            "\n",
            "  Ensayo Coreografía  \n",
            "0         30 minutos  \n",
            "1             1 hora  \n",
            "2                N/A  \n",
            "3             1 hora  \n",
            "4                N/A  \n",
            "5         30 minutos  \n"
          ]
        }
      ],
      "source": [
        "import pandas as pd\n",
        "\n",
        "data2 = {\n",
        "    'Día': ['Lunes', 'Martes', 'Miércoles', 'Jueves', 'Viernes', 'Sábado'],\n",
        "    'Duración Total': ['1 hora', '1 hora y 30 minutos', 'Nada', '1 hora y 30 minutos', 'Nada', '1 hora'],\n",
        "    'Calentamiento': ['10 minutos', '10 minutos', 'N/A', '10 minutos', 'N/A', '10 minutos'],\n",
        "    'Clases Técnicas': ['20 minutos', '20 minutos', 'N/A', '20 minutos', 'N/A', '20 minutos'],\n",
        "    'Ensayo Coreografía': ['30 minutos', '1 hora', 'N/A', '1 hora', 'N/A', '30 minutos']\n",
        "}\n",
        "\n",
        "df2 = pd.DataFrame(data2)\n",
        "\n",
        "\n",
        "print(df2)\n"
      ]
    },
    {
      "cell_type": "code",
      "execution_count": 6,
      "metadata": {
        "id": "r_wz5Nill_9F"
      },
      "outputs": [],
      "source": [
        "import csv\n",
        "\n",
        "data2 = {\n",
        "    'Día': ['Lunes', 'Martes', 'Miércoles', 'Jueves', 'Viernes', 'Sábado'],\n",
        "    'Duración Total': ['1 hora', '1 hora y 30 minutos', 'Nada', '1 hora y 30 minutos', 'Nada', '1 hora'],\n",
        "    'Calentamiento': ['10 minutos', '10 minutos', 'N/A', '10 minutos', 'N/A', '10 minutos'],\n",
        "    'Clases Técnicas': ['20 minutos', '20 minutos', 'N/A', '20 minutos', 'N/A', '20 minutos'],\n",
        "    'Ensayo Coreografía': ['30 minutos', '1 hora', 'N/A', '1 hora', 'N/A', '30 minutos']\n",
        "}\n",
        "\n",
        "df2 = pd.DataFrame(data2)"
      ]
    },
    {
      "cell_type": "code",
      "execution_count": 7,
      "metadata": {
        "colab": {
          "base_uri": "https://localhost:8080/",
          "height": 238
        },
        "id": "qPVvhfp0mRzN",
        "outputId": "c57a1674-fc38-4dff-e5a6-869a1322590b"
      },
      "outputs": [
        {
          "data": {
            "text/html": [
              "<div>\n",
              "<style scoped>\n",
              "    .dataframe tbody tr th:only-of-type {\n",
              "        vertical-align: middle;\n",
              "    }\n",
              "\n",
              "    .dataframe tbody tr th {\n",
              "        vertical-align: top;\n",
              "    }\n",
              "\n",
              "    .dataframe thead th {\n",
              "        text-align: right;\n",
              "    }\n",
              "</style>\n",
              "<table border=\"1\" class=\"dataframe\">\n",
              "  <thead>\n",
              "    <tr style=\"text-align: right;\">\n",
              "      <th></th>\n",
              "      <th>Día</th>\n",
              "      <th>Duración Total</th>\n",
              "      <th>Calentamiento</th>\n",
              "      <th>Clases Técnicas</th>\n",
              "      <th>Ensayo Coreografía</th>\n",
              "    </tr>\n",
              "  </thead>\n",
              "  <tbody>\n",
              "    <tr>\n",
              "      <th>0</th>\n",
              "      <td>Lunes</td>\n",
              "      <td>1 hora</td>\n",
              "      <td>10 minutos</td>\n",
              "      <td>20 minutos</td>\n",
              "      <td>30 minutos</td>\n",
              "    </tr>\n",
              "    <tr>\n",
              "      <th>1</th>\n",
              "      <td>Martes</td>\n",
              "      <td>1 hora y 30 minutos</td>\n",
              "      <td>10 minutos</td>\n",
              "      <td>20 minutos</td>\n",
              "      <td>1 hora</td>\n",
              "    </tr>\n",
              "    <tr>\n",
              "      <th>2</th>\n",
              "      <td>Miércoles</td>\n",
              "      <td>Nada</td>\n",
              "      <td>N/A</td>\n",
              "      <td>N/A</td>\n",
              "      <td>N/A</td>\n",
              "    </tr>\n",
              "    <tr>\n",
              "      <th>3</th>\n",
              "      <td>Jueves</td>\n",
              "      <td>1 hora y 30 minutos</td>\n",
              "      <td>10 minutos</td>\n",
              "      <td>20 minutos</td>\n",
              "      <td>1 hora</td>\n",
              "    </tr>\n",
              "    <tr>\n",
              "      <th>4</th>\n",
              "      <td>Viernes</td>\n",
              "      <td>Nada</td>\n",
              "      <td>N/A</td>\n",
              "      <td>N/A</td>\n",
              "      <td>N/A</td>\n",
              "    </tr>\n",
              "    <tr>\n",
              "      <th>5</th>\n",
              "      <td>Sábado</td>\n",
              "      <td>1 hora</td>\n",
              "      <td>10 minutos</td>\n",
              "      <td>20 minutos</td>\n",
              "      <td>30 minutos</td>\n",
              "    </tr>\n",
              "  </tbody>\n",
              "</table>\n",
              "</div>"
            ],
            "text/plain": [
              "         Día       Duración Total Calentamiento Clases Técnicas  \\\n",
              "0      Lunes               1 hora    10 minutos      20 minutos   \n",
              "1     Martes  1 hora y 30 minutos    10 minutos      20 minutos   \n",
              "2  Miércoles                 Nada           N/A             N/A   \n",
              "3     Jueves  1 hora y 30 minutos    10 minutos      20 minutos   \n",
              "4    Viernes                 Nada           N/A             N/A   \n",
              "5     Sábado               1 hora    10 minutos      20 minutos   \n",
              "\n",
              "  Ensayo Coreografía  \n",
              "0         30 minutos  \n",
              "1             1 hora  \n",
              "2                N/A  \n",
              "3             1 hora  \n",
              "4                N/A  \n",
              "5         30 minutos  "
            ]
          },
          "execution_count": 7,
          "metadata": {},
          "output_type": "execute_result"
        }
      ],
      "source": [
        "df2"
      ]
    },
    {
      "cell_type": "code",
      "execution_count": 8,
      "metadata": {
        "id": "yZpcQYDJmuvQ"
      },
      "outputs": [],
      "source": [
        "df2.to_csv('dataframe2.csv', index=False)"
      ]
    },
    {
      "cell_type": "code",
      "execution_count": 5,
      "metadata": {
        "id": "cH8pB8B4fh4T"
      },
      "outputs": [],
      "source": [
        "import pandas as pd"
      ]
    }
  ],
  "metadata": {
    "colab": {
      "provenance": []
    },
    "kernelspec": {
      "display_name": "Python 3",
      "name": "python3"
    },
    "language_info": {
      "codemirror_mode": {
        "name": "ipython",
        "version": 3
      },
      "file_extension": ".py",
      "mimetype": "text/x-python",
      "name": "python",
      "nbconvert_exporter": "python",
      "pygments_lexer": "ipython3",
      "version": "3.11.6"
    }
  },
  "nbformat": 4,
  "nbformat_minor": 0
}
